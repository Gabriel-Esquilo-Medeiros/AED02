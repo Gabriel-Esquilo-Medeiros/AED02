{
 "cells": [
  {
   "cell_type": "code",
   "execution_count": 27,
   "id": "9d14ff8d-6d04-4fb1-be64-e99ffb623956",
   "metadata": {},
   "outputs": [],
   "source": [
    "def buscar_cliente(nome, lista_clientes):\n",
    "    for i in range(len(lista_clientes)):\n",
    "        if lista_clientes[i].lower() == nome.lower():\n",
    "            return i\n",
    "    return -1"
   ]
  },
  {
   "cell_type": "code",
   "execution_count": 28,
   "id": "60b5f924-0c84-4e93-86b3-d2a2b9e7291e",
   "metadata": {},
   "outputs": [
    {
     "name": "stdin",
     "output_type": "stream",
     "text": [
      "Digite um nome ou 'sair' para sair:  jjo\n"
     ]
    },
    {
     "name": "stdout",
     "output_type": "stream",
     "text": [
      "Nome não encontrado!\n"
     ]
    },
    {
     "name": "stdin",
     "output_type": "stream",
     "text": [
      "Digite um nome ou 'sair' para sair:  gabriel\n"
     ]
    },
    {
     "name": "stdout",
     "output_type": "stream",
     "text": [
      "O índice do nome gabriel é 1\n"
     ]
    },
    {
     "name": "stdin",
     "output_type": "stream",
     "text": [
      "Digite um nome ou 'sair' para sair:  mauricio\n"
     ]
    },
    {
     "name": "stdout",
     "output_type": "stream",
     "text": [
      "O índice do nome mauricio é 4\n"
     ]
    },
    {
     "name": "stdin",
     "output_type": "stream",
     "text": [
      "Digite um nome ou 'sair' para sair:  kayky\n"
     ]
    },
    {
     "name": "stdout",
     "output_type": "stream",
     "text": [
      "O índice do nome kayky é 5\n"
     ]
    },
    {
     "name": "stdin",
     "output_type": "stream",
     "text": [
      "Digite um nome ou 'sair' para sair:  kayak\n"
     ]
    },
    {
     "name": "stdout",
     "output_type": "stream",
     "text": [
      "Nome não encontrado!\n"
     ]
    },
    {
     "name": "stdin",
     "output_type": "stream",
     "text": [
      "Digite um nome ou 'sair' para sair:  como assim\n"
     ]
    },
    {
     "name": "stdout",
     "output_type": "stream",
     "text": [
      "Nome não encontrado!\n"
     ]
    },
    {
     "name": "stdin",
     "output_type": "stream",
     "text": [
      "Digite um nome ou 'sair' para sair:  seu burro\n"
     ]
    },
    {
     "name": "stdout",
     "output_type": "stream",
     "text": [
      "Nome não encontrado!\n"
     ]
    },
    {
     "name": "stdin",
     "output_type": "stream",
     "text": [
      "Digite um nome ou 'sair' para sair:  kayak é o kayky\n"
     ]
    },
    {
     "name": "stdout",
     "output_type": "stream",
     "text": [
      "Nome não encontrado!\n"
     ]
    },
    {
     "name": "stdin",
     "output_type": "stream",
     "text": [
      "Digite um nome ou 'sair' para sair:  sair.\n"
     ]
    },
    {
     "name": "stdout",
     "output_type": "stream",
     "text": [
      "Nome não encontrado!\n"
     ]
    },
    {
     "name": "stdin",
     "output_type": "stream",
     "text": [
      "Digite um nome ou 'sair' para sair:  sair\n"
     ]
    }
   ],
   "source": [
    "lista_clientes = [\"João\", \"Gabriel\", \"Piva\", \"Marcos\", \"Mauricio\", \"Kayky\", \"Berto\", \"José\", \"Caio\", \"Antony\"]\n",
    "while True:\n",
    "    n = input(\"Digite um nome ou 'sair' para sair: \").lower()\n",
    "    if n == \"sair\":\n",
    "        break\n",
    "    else:\n",
    "        i = buscar_cliente(n, lista_clientes)\n",
    "        if i == -1:\n",
    "            print(\"Nome não encontrado!\")\n",
    "        else:\n",
    "            print(f\"O índice do nome {n} é {i}\")"
   ]
  },
  {
   "cell_type": "markdown",
   "id": "6c3bc3b0-a355-453e-9c82-95d5148f59ac",
   "metadata": {},
   "source": [
    "# Atividade de convite"
   ]
  },
  {
   "cell_type": "code",
   "execution_count": 32,
   "id": "59ad9ca1-11ec-4119-a2e9-473816f4a790",
   "metadata": {},
   "outputs": [],
   "source": [
    "def buscar_convidado(nome, lista_convidados):\n",
    "    for i in range(len(lista_convidados)):\n",
    "        if lista_convidados[i].lower() == nome.lower():\n",
    "            return i\n",
    "    return -1"
   ]
  },
  {
   "cell_type": "code",
   "execution_count": 40,
   "id": "de2fb294-8d67-42fb-94aa-ca38278f6b15",
   "metadata": {},
   "outputs": [
    {
     "name": "stdin",
     "output_type": "stream",
     "text": [
      "Me diga seu nome, e eu digo se você está convidado para a festa:  gabriel castilho\n"
     ]
    },
    {
     "name": "stdout",
     "output_type": "stream",
     "text": [
      "gabriel castilho você não está convidado, tchau tchau!\n"
     ]
    }
   ],
   "source": [
    "lista_convidados = [\"Abel Ferreira\", \"Alisson Da Minha Frente\", \"Bebeto Carrero\", \"São Carlos\", \"Diego Hipólito\", \"Henrique & Juliano\", \"Matheus Henrique\", \"Mousher Nata\", \"PI da Silva\", \"Mauricio Verdaum\"]\n",
    "n = input(\"Me diga seu nome, e eu digo se você está convidado para a festa: \").lower()\n",
    "i = buscar_convidado(n, lista_convidados)\n",
    "if i == -1:\n",
    "    print(f\"{n} você não está convidado, tchau tchau!\")\n",
    "else:\n",
    "    print(f\"{n} você está convidado, pode entrar!\")"
   ]
  },
  {
   "cell_type": "code",
   "execution_count": null,
   "id": "7d9b5e2d-954c-41bc-8f49-0ab3686d9583",
   "metadata": {},
   "outputs": [],
   "source": []
  }
 ],
 "metadata": {
  "kernelspec": {
   "display_name": "Python 3 (ipykernel)",
   "language": "python",
   "name": "python3"
  },
  "language_info": {
   "codemirror_mode": {
    "name": "ipython",
    "version": 3
   },
   "file_extension": ".py",
   "mimetype": "text/x-python",
   "name": "python",
   "nbconvert_exporter": "python",
   "pygments_lexer": "ipython3",
   "version": "3.13.5"
  }
 },
 "nbformat": 4,
 "nbformat_minor": 5
}
