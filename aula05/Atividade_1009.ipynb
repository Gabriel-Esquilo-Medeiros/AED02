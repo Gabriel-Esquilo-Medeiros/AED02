{
 "cells": [
  {
   "cell_type": "code",
   "execution_count": 13,
   "id": "cd992a9c-a950-4afd-b853-3c1921ff80a5",
   "metadata": {},
   "outputs": [],
   "source": [
    "class Pessoa:\n",
    "    def __init__(self, nome, idade):\n",
    "        self.__nome = nome\n",
    "        self.__idade = idade\n",
    "\n",
    "    def fazer_aniversario(self):\n",
    "        self.__idade = self.__idade + 1\n",
    "    \n",
    "    def __str__(self):\n",
    "        return f'{self.__nome}, {self.__idade}'"
   ]
  },
  {
   "cell_type": "code",
   "execution_count": 15,
   "id": "d952ae01-2a8b-40c7-ae65-34137e881385",
   "metadata": {},
   "outputs": [
    {
     "name": "stdout",
     "output_type": "stream",
     "text": [
      "Gabriel, 18\n",
      "Mousher, 32\n",
      "Gabriel, 19\n"
     ]
    }
   ],
   "source": [
    "a = Pessoa(\"Gabriel\", 18)\n",
    "b = Pessoa(\"Mousher\", 32)\n",
    "print(a)\n",
    "print(b)\n",
    "a.fazer_aniversario()\n",
    "print(a) #pessoa A mudou a idade"
   ]
  }
 ],
 "metadata": {
  "kernelspec": {
   "display_name": "Python 3 (ipykernel)",
   "language": "python",
   "name": "python3"
  },
  "language_info": {
   "codemirror_mode": {
    "name": "ipython",
    "version": 3
   },
   "file_extension": ".py",
   "mimetype": "text/x-python",
   "name": "python",
   "nbconvert_exporter": "python",
   "pygments_lexer": "ipython3",
   "version": "3.13.5"
  }
 },
 "nbformat": 4,
 "nbformat_minor": 5
}
