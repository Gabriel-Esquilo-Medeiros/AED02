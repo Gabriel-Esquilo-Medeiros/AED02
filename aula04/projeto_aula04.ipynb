{
 "cells": [
  {
   "cell_type": "code",
   "execution_count": 44,
   "id": "08305ed3-6526-41c8-a2a1-15ba58a1fc0e",
   "metadata": {},
   "outputs": [],
   "source": [
    "def buscar_livro(biblioteca, livro_alvo):\n",
    "    for livro in biblioteca:\n",
    "        if livro[0].lower() == livro_alvo.lower():\n",
    "            return livro\n",
    "    return None"
   ]
  },
  {
   "cell_type": "code",
   "execution_count": 45,
   "id": "650ffd66-877e-4bac-bd77-cdfe811f61f0",
   "metadata": {},
   "outputs": [],
   "source": [
    "biblioteca = [\n",
    "    (\"A Culpa É Das Estrelas\", \"de Jhon Green\", 2012),\n",
    "    (\"Dom Casmurro\", \"de Machado de Assis\", 1899),\n",
    "    (\"Harry Potter e a Pedra Filosofal\", \"de JK Rowling\", 1997),\n",
    "    (\"O Pequeno Príncipe\", \"de Antoine de Saint Exupéry\", 1943),\n",
    "    (\"O Sol é Para Todos\", \"de Harper Lee\", 1960),\n",
    "    (\"Romeu e Julieta\", \"de William Shakespeare\", 1597),\n",
    "    (\"Sapiens: Uma Breve História da Humanidade\", \"de Yuval Noah Harari\", 2011),\n",
    "    (\"Ulisses\", \"de James Joyce\", 1922) ]"
   ]
  },
  {
   "cell_type": "code",
   "execution_count": 46,
   "id": "eea7a693-ea65-4434-ba6f-6307d9dadf17",
   "metadata": {},
   "outputs": [
    {
     "name": "stdout",
     "output_type": "stream",
     "text": [
      "O livro O Sol é Para Todos foi encontrado:\n"
     ]
    }
   ],
   "source": [
    "livro_encontrado = buscar_livro(biblioteca, \"o Sol é Para Todos\".lower())\n",
    "\n",
    "if livro_encontrado:\n",
    "    print(f\"O livro {livro_encontrado[0]} foi encontrado:\")\n",
    "else:\n",
    "    print(\"Livro não encontrado.\")"
   ]
  },
  {
   "cell_type": "code",
   "execution_count": 57,
   "id": "00c5a42a-3483-459b-8324-dd9d76c14688",
   "metadata": {},
   "outputs": [],
   "source": [
    "def busca_binaria(v, lista_ord):\n",
    "    esquerda = 0\n",
    "    direita = len(lista_ord) - 1\n",
    "    while esquerda <= direita:\n",
    "        meio = (esquerda + direita) // 2\n",
    "        if v.lower() == lista_ord[meio][0].lower():\n",
    "            return meio\n",
    "        elif v.lower() < lista_ord[meio][0].lower():\n",
    "            direita = meio - 1\n",
    "        else:\n",
    "            esquerda = meio + 1\n",
    "    return -1"
   ]
  },
  {
   "cell_type": "code",
   "execution_count": 58,
   "id": "d7751a05-c6d1-47f9-b58e-01b664c027d5",
   "metadata": {},
   "outputs": [],
   "source": [
    "biblioteca = [\n",
    "    (\"A Culpa É Das Estrelas\", \"de Jhon Green\", 2012),\n",
    "    (\"Dom Casmurro\", \"de Machado de Assis\", 1899),\n",
    "    (\"Harry Potter e a Pedra Filosofal\", \"de JK Rowling\", 1997),\n",
    "    (\"O Pequeno Príncipe\", \"de Antoine de Saint Exupéry\", 1943),\n",
    "    (\"O Sol é Para Todos\", \"de Harper Lee\", 1960),\n",
    "    (\"Romeu e Julieta\", \"de William Shakespeare\", 1597),\n",
    "    (\"Sapiens: Uma Breve História da Humanidade\", \"de Yuval Noah Harari\", 2011),\n",
    "    (\"Ulisses\", \"de James Joyce\", 1922)\n",
    "]"
   ]
  },
  {
   "cell_type": "code",
   "execution_count": 59,
   "id": "3d08392b-4c21-43b7-a1cd-576fad28658b",
   "metadata": {},
   "outputs": [
    {
     "name": "stdout",
     "output_type": "stream",
     "text": [
      "O livro Dom Casmurro foi encontrado na posição 1.\n",
      "Detalhes: ('Dom Casmurro', 'de Machado de Assis', 1899)\n"
     ]
    }
   ],
   "source": [
    "livro_alvo = \"Dom Casmurro\"\n",
    "\n",
    "posicao = busca_binaria(livro_alvo, biblioteca)\n",
    "\n",
    "if posicao != -1:\n",
    "    print(f\"O livro {livro_alvo} foi encontrado na posição {posicao}.\")\n",
    "    print(f\"Detalhes: {biblioteca[posicao]}\")\n",
    "else:\n",
    "    print(f\"O livro {livro_alvo} não foi encontrado.\")"
   ]
  }
 ],
 "metadata": {
  "kernelspec": {
   "display_name": "Python 3 (ipykernel)",
   "language": "python",
   "name": "python3"
  },
  "language_info": {
   "codemirror_mode": {
    "name": "ipython",
    "version": 3
   },
   "file_extension": ".py",
   "mimetype": "text/x-python",
   "name": "python",
   "nbconvert_exporter": "python",
   "pygments_lexer": "ipython3",
   "version": "3.13.5"
  }
 },
 "nbformat": 4,
 "nbformat_minor": 5
}
